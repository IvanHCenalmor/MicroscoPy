{
 "cells": [
  {
   "cell_type": "code",
   "execution_count": 1,
   "id": "ce624298",
   "metadata": {
    "scrolled": true
   },
   "outputs": [
    {
     "name": "stderr",
     "output_type": "stream",
     "text": [
      "2023-02-16 02:09:25.101955: I tensorflow/stream_executor/platform/default/dso_loader.cc:49] Successfully opened dynamic library libcudart.so.10.1\n"
     ]
    },
    {
     "name": "stdout",
     "output_type": "stream",
     "text": [
      "WARNING:tensorflow:From /data/ihidalgo/Paper publication/src/utils.py:15: experimental_run_functions_eagerly (from tensorflow.python.eager.def_function) is deprecated and will be removed in a future version.\n",
      "Instructions for updating:\n",
      "Use `tf.config.run_functions_eagerly` instead of the experimental version.\n",
      "Setting up [LPIPS] perceptual loss: trunk [alex], v[0.1], spatial [off]\n",
      "Loading model from: /home/ihidalgo/miniconda3/envs/prueba/lib/python3.7/site-packages/lpips/weights/v0.1/alex.pth\n",
      "Setting up [LPIPS] perceptual loss: trunk [vgg], v[0.1], spatial [off]\n",
      "Loading model from: /home/ihidalgo/miniconda3/envs/prueba/lib/python3.7/site-packages/lpips/weights/v0.1/vgg.pth\n",
      "2.4.1\n"
     ]
    }
   ],
   "source": [
    "import os\n",
    "import sys\n",
    "module_path = os.path.abspath(os.path.join('./src'))\n",
    "if module_path not in sys.path:\n",
    "    sys.path.append(module_path)\n",
    "\n",
    "from trainers import *"
   ]
  },
  {
   "cell_type": "code",
   "execution_count": null,
   "id": "817d8395",
   "metadata": {},
   "outputs": [],
   "source": [
    "dataset_config = {'EM': [None, 'train', None, None, None, 'test'],\n",
    "                  'MitoTracker_small': [None, 'train', None, None, None, 'test'],\n",
    "                  }"
   ]
  },
  {
   "cell_type": "code",
   "execution_count": 3,
   "id": "d358d90e",
   "metadata": {
    "scrolled": false
   },
   "outputs": [
    {
     "name": "stdout",
     "output_type": "stream",
     "text": [
      "Simple discriminator\n",
      "Generators parameters: 1443476\n",
      "Discriminators parameters: 1554433\n"
     ]
    },
    {
     "name": "stderr",
     "output_type": "stream",
     "text": [
      "GPU available: True, used: True\n",
      "TPU available: False, using: 0 TPU cores\n",
      "IPU available: False, using: 0 IPUs\n",
      "HPU available: False, using: 0 HPUs\n"
     ]
    },
    {
     "name": "stdout",
     "output_type": "stream",
     "text": [
      "LR patch shape: torch.Size([64, 64])\n",
      "HR patch shape: torch.Size([256, 256])\n",
      "configure_model() - lr \n",
      "\n",
      "Shape: (2, 1, 64, 64) \n",
      "Type: <class 'torch.Tensor'> \n",
      "Numpy type: float32 \n",
      "Min: 0.012499013915657997 \n",
      "Max: 0.8153286576271057 \n",
      "Mean: 0.48789796233177185\n",
      "\n",
      "configure_model() - hr \n",
      "\n",
      "Shape: (2, 1, 256, 256) \n",
      "Type: <class 'torch.Tensor'> \n",
      "Numpy type: float32 \n",
      "Min: 0.0 \n",
      "Max: 0.917647123336792 \n",
      "Mean: 0.4879027307033539\n",
      "\n"
     ]
    },
    {
     "name": "stderr",
     "output_type": "stream",
     "text": [
      "LOCAL_RANK: 0 - CUDA_VISIBLE_DEVICES: [1]\n",
      "\n",
      "  | Name          | Type            | Params\n",
      "--------------------------------------------------\n",
      "0 | generator     | GeneratorModule | 1.4 M \n",
      "1 | discriminator | Discriminator   | 1.6 M \n",
      "2 | mae           | L1Loss          | 0     \n",
      "--------------------------------------------------\n",
      "3.0 M     Trainable params\n",
      "0         Non-trainable params\n",
      "3.0 M     Total params\n",
      "11.992    Total estimated model params size (MB)\n"
     ]
    },
    {
     "name": "stdout",
     "output_type": "stream",
     "text": [
      "Generator will use Adam optimizer.\n",
      "Discriminator will use Adam optimizer.\n",
      "Generator will use OneCycle scheduler\n",
      "Discriminator will use OneCycle scheduler\n"
     ]
    },
    {
     "data": {
      "application/vnd.jupyter.widget-view+json": {
       "model_id": "",
       "version_major": 2,
       "version_minor": 0
      },
      "text/plain": [
       "Sanity Checking: 0it [00:00, ?it/s]"
      ]
     },
     "metadata": {},
     "output_type": "display_data"
    },
    {
     "data": {
      "application/vnd.jupyter.widget-view+json": {
       "model_id": "6656b207d7864d0ca94d332dd9091731",
       "version_major": 2,
       "version_minor": 0
      },
      "text/plain": [
       "Training: 0it [00:00, ?it/s]"
      ]
     },
     "metadata": {},
     "output_type": "display_data"
    },
    {
     "data": {
      "application/vnd.jupyter.widget-view+json": {
       "model_id": "",
       "version_major": 2,
       "version_minor": 0
      },
      "text/plain": [
       "Validation: 0it [00:00, ?it/s]"
      ]
     },
     "metadata": {},
     "output_type": "display_data"
    },
    {
     "name": "stdout",
     "output_type": "stream",
     "text": [
      "\n",
      "Time elapsed: 0.0 hour(s) 3.0 min(s) 18 sec(s)\n",
      "\n",
      "Train information saved.\n"
     ]
    },
    {
     "name": "stderr",
     "output_type": "stream",
     "text": [
      "GPU available: True, used: True\n",
      "TPU available: False, using: 0 TPU cores\n",
      "IPU available: False, using: 0 IPUs\n",
      "HPU available: False, using: 0 HPUs\n",
      "LOCAL_RANK: 0 - CUDA_VISIBLE_DEVICES: [1]\n"
     ]
    },
    {
     "data": {
      "application/vnd.jupyter.widget-view+json": {
       "model_id": "805f3b32e062441d97cb53048bc80f62",
       "version_major": 2,
       "version_minor": 0
      },
      "text/plain": [
       "Predicting: 0it [00:00, ?it/s]"
      ]
     },
     "metadata": {},
     "output_type": "display_data"
    },
    {
     "name": "stdout",
     "output_type": "stream",
     "text": [
      "(100, 1024, 1024, 1)\n",
      "predict_images() - lr \n",
      "\n",
      "Shape: (1, 1, 256, 256) \n",
      "Type: <class 'torch.Tensor'> \n",
      "Numpy type: float32 \n",
      "Min: 0.045906294137239456 \n",
      "Max: 0.7973402738571167 \n",
      "Mean: 0.5205608606338501\n",
      "\n",
      "predict_images() - hr \n",
      "\n",
      "Shape: (1, 1, 1024, 1024) \n",
      "Type: <class 'torch.Tensor'> \n",
      "Numpy type: float32 \n",
      "Min: 0.0 \n",
      "Max: 0.8901961445808411 \n",
      "Mean: 0.5205669403076172\n",
      "\n",
      "predict_images() - predictions \n",
      "\n",
      "Not same shapes\n",
      "Predicted images have been saved in: ./results/Electron microscopy/wgan/prueba/scale4/scale4_epc1_btch2_lr0.001_optim-Adam_lrsched-OneCycle_seed667/predicted_images\n",
      "predict_images() - self.Y_test \n",
      "\n",
      "Shape: (100, 1024, 1024, 1) \n",
      "Type: <class 'numpy.ndarray'> \n",
      "Numpy type: float32 \n",
      "Min: 0.0 \n",
      "Max: 0.003921568859368563 \n",
      "Mean: 0.002335971686989069\n",
      "\n",
      "predict_images() - self.predictions \n",
      "\n",
      "Shape: (100, 1024, 1024, 1) \n",
      "Type: <class 'numpy.ndarray'> \n",
      "Numpy type: float32 \n",
      "Min: 0.0 \n",
      "Max: 0.9782117605209351 \n",
      "Mean: 0.5924815535545349\n",
      "\n",
      "True HR shape: (100, 1024, 1024, 1)\n",
      "Predicted HR shape: (100, 1024, 1024, 1)\n",
      "True HR: max=0.003490965347737074 min=0.0\n",
      "Predicted HR: max=0.8843910694122314 min=0.0\n",
      "eval_model() - self.Y_test \n",
      "\n",
      "Shape: (100, 1024, 1024, 1) \n",
      "Type: <class 'numpy.ndarray'> \n",
      "Numpy type: float32 \n",
      "Min: 0.0 \n",
      "Max: 0.003921568859368563 \n",
      "Mean: 0.002335971686989069\n",
      "\n",
      "eval_model() - self.predictions \n",
      "\n",
      "Shape: (100, 1024, 1024, 1) \n",
      "Type: <class 'numpy.ndarray'> \n",
      "Numpy type: float32 \n",
      "Min: 0.0 \n",
      "Max: 0.9782117605209351 \n",
      "Mean: 0.5924815535545349\n",
      "\n",
      "The predictions will be evaluated\n"
     ]
    },
    {
     "name": "stderr",
     "output_type": "stream",
     "text": [
      "100%|█████████████████████████████████████████| 100/100 [02:35<00:00,  1.55s/it]\n"
     ]
    },
    {
     "name": "stdout",
     "output_type": "stream",
     "text": [
      "ssim: 0.004864546388207877\n",
      "psnr: 4.316509686208118\n",
      "mse: 0.3837671029523233\n",
      "alex: 0.8538200259208679\n",
      "vgg: 0.7833077907562256\n",
      "ilniqe: nan\n",
      "fsim: nan\n",
      "gmsd: nan\n",
      "vsi: nan\n",
      "haarpsi: nan\n",
      "mdsi: nan\n",
      "pieapp: nan\n",
      "dists: nan\n",
      "brisqe: nan\n",
      "Simple discriminator\n",
      "Generators parameters: 1443476\n",
      "Discriminators parameters: 1554433\n"
     ]
    },
    {
     "name": "stderr",
     "output_type": "stream",
     "text": [
      "GPU available: True, used: True\n",
      "TPU available: False, using: 0 TPU cores\n",
      "IPU available: False, using: 0 IPUs\n",
      "HPU available: False, using: 0 HPUs\n",
      "Missing logger folder: ./results/Electron microscopy/wgan/prueba/scale4/scale4_epc5_btch2_lr0.001_optim-Adam_lrsched-OneCycle_seed667/Quality Control/Logger\n",
      "LOCAL_RANK: 0 - CUDA_VISIBLE_DEVICES: [1]\n",
      "\n",
      "  | Name          | Type            | Params\n",
      "--------------------------------------------------\n",
      "0 | generator     | GeneratorModule | 1.4 M \n",
      "1 | discriminator | Discriminator   | 1.6 M \n",
      "2 | mae           | L1Loss          | 0     \n",
      "--------------------------------------------------\n",
      "3.0 M     Trainable params\n",
      "0         Non-trainable params\n",
      "3.0 M     Total params\n",
      "11.992    Total estimated model params size (MB)\n"
     ]
    },
    {
     "name": "stdout",
     "output_type": "stream",
     "text": [
      "LR patch shape: torch.Size([64, 64])\n",
      "HR patch shape: torch.Size([256, 256])\n",
      "configure_model() - lr \n",
      "\n",
      "Shape: (2, 1, 64, 64) \n",
      "Type: <class 'torch.Tensor'> \n",
      "Numpy type: float32 \n",
      "Min: 0.012499013915657997 \n",
      "Max: 0.8153286576271057 \n",
      "Mean: 0.48789796233177185\n",
      "\n",
      "configure_model() - hr \n",
      "\n",
      "Shape: (2, 1, 256, 256) \n",
      "Type: <class 'torch.Tensor'> \n",
      "Numpy type: float32 \n",
      "Min: 0.0 \n",
      "Max: 0.917647123336792 \n",
      "Mean: 0.48790276050567627\n",
      "\n",
      "Generator will use Adam optimizer.\n",
      "Discriminator will use Adam optimizer.\n",
      "Generator will use OneCycle scheduler\n",
      "Discriminator will use OneCycle scheduler\n"
     ]
    },
    {
     "data": {
      "application/vnd.jupyter.widget-view+json": {
       "model_id": "",
       "version_major": 2,
       "version_minor": 0
      },
      "text/plain": [
       "Sanity Checking: 0it [00:00, ?it/s]"
      ]
     },
     "metadata": {},
     "output_type": "display_data"
    },
    {
     "data": {
      "application/vnd.jupyter.widget-view+json": {
       "model_id": "980d44e11ab84aac93d50e41bb09bc7b",
       "version_major": 2,
       "version_minor": 0
      },
      "text/plain": [
       "Training: 0it [00:00, ?it/s]"
      ]
     },
     "metadata": {},
     "output_type": "display_data"
    },
    {
     "data": {
      "application/vnd.jupyter.widget-view+json": {
       "model_id": "",
       "version_major": 2,
       "version_minor": 0
      },
      "text/plain": [
       "Validation: 0it [00:00, ?it/s]"
      ]
     },
     "metadata": {},
     "output_type": "display_data"
    },
    {
     "data": {
      "application/vnd.jupyter.widget-view+json": {
       "model_id": "",
       "version_major": 2,
       "version_minor": 0
      },
      "text/plain": [
       "Validation: 0it [00:00, ?it/s]"
      ]
     },
     "metadata": {},
     "output_type": "display_data"
    },
    {
     "data": {
      "application/vnd.jupyter.widget-view+json": {
       "model_id": "",
       "version_major": 2,
       "version_minor": 0
      },
      "text/plain": [
       "Validation: 0it [00:00, ?it/s]"
      ]
     },
     "metadata": {},
     "output_type": "display_data"
    },
    {
     "data": {
      "application/vnd.jupyter.widget-view+json": {
       "model_id": "",
       "version_major": 2,
       "version_minor": 0
      },
      "text/plain": [
       "Validation: 0it [00:00, ?it/s]"
      ]
     },
     "metadata": {},
     "output_type": "display_data"
    },
    {
     "data": {
      "application/vnd.jupyter.widget-view+json": {
       "model_id": "",
       "version_major": 2,
       "version_minor": 0
      },
      "text/plain": [
       "Validation: 0it [00:00, ?it/s]"
      ]
     },
     "metadata": {},
     "output_type": "display_data"
    },
    {
     "name": "stdout",
     "output_type": "stream",
     "text": [
      "\n",
      "Time elapsed: 0.0 hour(s) 15.0 min(s) 50 sec(s)\n",
      "\n",
      "Train information saved.\n"
     ]
    },
    {
     "name": "stderr",
     "output_type": "stream",
     "text": [
      "GPU available: True, used: True\n",
      "TPU available: False, using: 0 TPU cores\n",
      "IPU available: False, using: 0 IPUs\n",
      "HPU available: False, using: 0 HPUs\n",
      "LOCAL_RANK: 0 - CUDA_VISIBLE_DEVICES: [1]\n"
     ]
    },
    {
     "data": {
      "application/vnd.jupyter.widget-view+json": {
       "model_id": "5c869ecb5ee54698aba09ac4dd39eb41",
       "version_major": 2,
       "version_minor": 0
      },
      "text/plain": [
       "Predicting: 0it [00:00, ?it/s]"
      ]
     },
     "metadata": {},
     "output_type": "display_data"
    },
    {
     "name": "stdout",
     "output_type": "stream",
     "text": [
      "(100, 1024, 1024, 1)\n",
      "predict_images() - lr \n",
      "\n",
      "Shape: (1, 1, 256, 256) \n",
      "Type: <class 'torch.Tensor'> \n",
      "Numpy type: float32 \n",
      "Min: 0.045906294137239456 \n",
      "Max: 0.7973402738571167 \n",
      "Mean: 0.5205608606338501\n",
      "\n",
      "predict_images() - hr \n",
      "\n",
      "Shape: (1, 1, 1024, 1024) \n",
      "Type: <class 'torch.Tensor'> \n",
      "Numpy type: float32 \n",
      "Min: 0.0 \n",
      "Max: 0.8901961445808411 \n",
      "Mean: 0.5205669403076172\n",
      "\n",
      "predict_images() - predictions \n",
      "\n",
      "Not same shapes\n",
      "Predicted images have been saved in: ./results/Electron microscopy/wgan/prueba/scale4/scale4_epc5_btch2_lr0.001_optim-Adam_lrsched-OneCycle_seed667/predicted_images\n",
      "predict_images() - self.Y_test \n",
      "\n",
      "Shape: (100, 1024, 1024, 1) \n",
      "Type: <class 'numpy.ndarray'> \n",
      "Numpy type: float32 \n",
      "Min: 0.0 \n",
      "Max: 0.003921568859368563 \n",
      "Mean: 0.002335971686989069\n",
      "\n",
      "predict_images() - self.predictions \n",
      "\n",
      "Shape: (100, 1024, 1024, 1) \n",
      "Type: <class 'numpy.ndarray'> \n",
      "Numpy type: float32 \n",
      "Min: 0.0 \n",
      "Max: 0.9926749467849731 \n",
      "Mean: 0.5930812358856201\n",
      "\n",
      "True HR shape: (100, 1024, 1024, 1)\n",
      "Predicted HR shape: (100, 1024, 1024, 1)\n",
      "True HR: max=0.003490965347737074 min=0.0\n",
      "Predicted HR: max=0.8932696580886841 min=0.0\n",
      "eval_model() - self.Y_test \n",
      "\n",
      "Shape: (100, 1024, 1024, 1) \n",
      "Type: <class 'numpy.ndarray'> \n",
      "Numpy type: float32 \n",
      "Min: 0.0 \n",
      "Max: 0.003921568859368563 \n",
      "Mean: 0.002335971686989069\n",
      "\n",
      "eval_model() - self.predictions \n",
      "\n",
      "Shape: (100, 1024, 1024, 1) \n",
      "Type: <class 'numpy.ndarray'> \n",
      "Numpy type: float32 \n",
      "Min: 0.0 \n",
      "Max: 0.9926749467849731 \n",
      "Mean: 0.5930812358856201\n",
      "\n",
      "The predictions will be evaluated\n"
     ]
    },
    {
     "name": "stderr",
     "output_type": "stream",
     "text": [
      "100%|█████████████████████████████████████████| 100/100 [02:11<00:00,  1.32s/it]\n"
     ]
    },
    {
     "name": "stdout",
     "output_type": "stream",
     "text": [
      "ssim: 0.004830447991682706\n",
      "psnr: 4.308672246222013\n",
      "mse: 0.385163072304007\n",
      "alex: 0.8603190183639526\n",
      "vgg: 0.7733162641525269\n",
      "ilniqe: nan\n",
      "fsim: nan\n",
      "gmsd: nan\n",
      "vsi: nan\n",
      "haarpsi: nan\n",
      "mdsi: nan\n",
      "pieapp: nan\n",
      "dists: nan\n",
      "brisqe: nan\n"
     ]
    },
    {
     "name": "stderr",
     "output_type": "stream",
     "text": [
      "GPU available: True, used: True\n",
      "TPU available: False, using: 0 TPU cores\n",
      "IPU available: False, using: 0 IPUs\n",
      "HPU available: False, using: 0 HPUs\n",
      "LOCAL_RANK: 0 - CUDA_VISIBLE_DEVICES: [1]\n",
      "\n",
      "  | Name          | Type         | Params\n",
      "-----------------------------------------------\n",
      "0 | generator     | DataParallel | 16.8 M\n",
      "1 | discriminator | DataParallel | 17.0 M\n",
      "2 | cri_pix       | L1Loss       | 0     \n",
      "3 | cri_fea       | L1Loss       | 0     \n",
      "4 | netF          | DataParallel | 20.0 M\n",
      "5 | cri_gan       | GANLoss      | 0     \n",
      "-----------------------------------------------\n",
      "33.8 M    Trainable params\n",
      "20.0 M    Non-trainable params\n",
      "53.8 M    Total params\n",
      "215.280   Total estimated model params size (MB)\n"
     ]
    },
    {
     "name": "stdout",
     "output_type": "stream",
     "text": [
      "LR patch shape: torch.Size([64, 64])\n",
      "HR patch shape: torch.Size([256, 256])\n",
      "configure_model() - lr \n",
      "\n",
      "Shape: (2, 1, 64, 64) \n",
      "Type: <class 'torch.Tensor'> \n",
      "Numpy type: float32 \n",
      "Min: 0.17817679047584534 \n",
      "Max: 0.9084417819976807 \n",
      "Mean: 0.5866461992263794\n",
      "\n",
      "configure_model() - hr \n",
      "\n",
      "Shape: (2, 1, 256, 256) \n",
      "Type: <class 'torch.Tensor'> \n",
      "Numpy type: float32 \n",
      "Min: 0.0 \n",
      "Max: 0.9725490808486938 \n",
      "Mean: 0.586418867111206\n",
      "\n"
     ]
    },
    {
     "data": {
      "application/vnd.jupyter.widget-view+json": {
       "model_id": "",
       "version_major": 2,
       "version_minor": 0
      },
      "text/plain": [
       "Sanity Checking: 0it [00:00, ?it/s]"
      ]
     },
     "metadata": {},
     "output_type": "display_data"
    },
    {
     "data": {
      "application/vnd.jupyter.widget-view+json": {
       "model_id": "617bef22934e46a09ea445e088e4d4e3",
       "version_major": 2,
       "version_minor": 0
      },
      "text/plain": [
       "Training: 0it [00:00, ?it/s]"
      ]
     },
     "metadata": {},
     "output_type": "display_data"
    },
    {
     "data": {
      "application/vnd.jupyter.widget-view+json": {
       "model_id": "",
       "version_major": 2,
       "version_minor": 0
      },
      "text/plain": [
       "Validation: 0it [00:00, ?it/s]"
      ]
     },
     "metadata": {},
     "output_type": "display_data"
    },
    {
     "name": "stdout",
     "output_type": "stream",
     "text": [
      "\n",
      "Time elapsed: 0.0 hour(s) 20.0 min(s) 35 sec(s)\n",
      "\n",
      "Train information saved.\n"
     ]
    },
    {
     "name": "stderr",
     "output_type": "stream",
     "text": [
      "GPU available: True, used: True\n",
      "TPU available: False, using: 0 TPU cores\n",
      "IPU available: False, using: 0 IPUs\n",
      "HPU available: False, using: 0 HPUs\n",
      "LOCAL_RANK: 0 - CUDA_VISIBLE_DEVICES: [1]\n"
     ]
    },
    {
     "data": {
      "application/vnd.jupyter.widget-view+json": {
       "model_id": "9d0f97af71d74d77b9e2d7c9833b2204",
       "version_major": 2,
       "version_minor": 0
      },
      "text/plain": [
       "Predicting: 0it [00:00, ?it/s]"
      ]
     },
     "metadata": {},
     "output_type": "display_data"
    },
    {
     "name": "stdout",
     "output_type": "stream",
     "text": [
      "(100, 1024, 1024, 1)\n",
      "predict_images() - lr \n",
      "\n",
      "Shape: (1, 1, 256, 256) \n",
      "Type: <class 'torch.Tensor'> \n",
      "Numpy type: float32 \n",
      "Min: 0.045906294137239456 \n",
      "Max: 0.7973402738571167 \n",
      "Mean: 0.5205608606338501\n",
      "\n",
      "predict_images() - hr \n",
      "\n",
      "Shape: (1, 1, 1024, 1024) \n",
      "Type: <class 'torch.Tensor'> \n",
      "Numpy type: float32 \n",
      "Min: 0.0 \n",
      "Max: 0.8901961445808411 \n",
      "Mean: 0.5205669403076172\n",
      "\n",
      "predict_images() - predictions \n",
      "\n",
      "Not same shapes\n",
      "Predicted images have been saved in: ./results/Electron microscopy/esrganplus/prueba/scale4/scale4_epc1_btch2_lr0.001_optim-Adam_lrsched-OneCycle_seed667/predicted_images\n",
      "predict_images() - self.Y_test \n",
      "\n",
      "Shape: (100, 1024, 1024, 1) \n",
      "Type: <class 'numpy.ndarray'> \n",
      "Numpy type: float32 \n",
      "Min: 0.0 \n",
      "Max: 0.003921568859368563 \n",
      "Mean: 0.002335971686989069\n",
      "\n",
      "predict_images() - self.predictions \n",
      "\n",
      "Shape: (100, 1024, 1024, 1) \n",
      "Type: <class 'numpy.ndarray'> \n",
      "Numpy type: float32 \n",
      "Min: 0.0 \n",
      "Max: 1.0 \n",
      "Mean: 0.456452876329422\n",
      "\n",
      "True HR shape: (100, 1024, 1024, 1)\n",
      "Predicted HR shape: (100, 1024, 1024, 1)\n",
      "True HR: max=0.003490965347737074 min=0.0\n",
      "Predicted HR: max=1.0 min=0.0\n",
      "eval_model() - self.Y_test \n",
      "\n",
      "Shape: (100, 1024, 1024, 1) \n",
      "Type: <class 'numpy.ndarray'> \n",
      "Numpy type: float32 \n",
      "Min: 0.0 \n",
      "Max: 0.003921568859368563 \n",
      "Mean: 0.002335971686989069\n",
      "\n",
      "eval_model() - self.predictions \n",
      "\n",
      "Shape: (100, 1024, 1024, 1) \n",
      "Type: <class 'numpy.ndarray'> \n",
      "Numpy type: float32 \n",
      "Min: 0.0 \n",
      "Max: 1.0 \n",
      "Mean: 0.456452876329422\n",
      "\n",
      "The predictions will be evaluated\n"
     ]
    },
    {
     "name": "stderr",
     "output_type": "stream",
     "text": [
      "100%|█████████████████████████████████████████| 100/100 [02:17<00:00,  1.38s/it]\n"
     ]
    },
    {
     "name": "stdout",
     "output_type": "stream",
     "text": [
      "ssim: 0.012083760380938963\n",
      "psnr: 6.4138697004832\n",
      "mse: 0.23706858759475039\n",
      "alex: 0.8620847463607788\n",
      "vgg: 0.6700198650360107\n",
      "ilniqe: nan\n",
      "fsim: nan\n",
      "gmsd: nan\n",
      "vsi: nan\n",
      "haarpsi: nan\n",
      "mdsi: nan\n",
      "pieapp: nan\n",
      "dists: nan\n",
      "brisqe: nan\n"
     ]
    },
    {
     "name": "stderr",
     "output_type": "stream",
     "text": [
      "GPU available: True, used: True\n",
      "TPU available: False, using: 0 TPU cores\n",
      "IPU available: False, using: 0 IPUs\n",
      "HPU available: False, using: 0 HPUs\n",
      "Missing logger folder: ./results/Electron microscopy/esrganplus/prueba/scale4/scale4_epc5_btch2_lr0.001_optim-Adam_lrsched-OneCycle_seed667/Quality Control/Logger\n",
      "LOCAL_RANK: 0 - CUDA_VISIBLE_DEVICES: [1]\n",
      "\n",
      "  | Name          | Type         | Params\n",
      "-----------------------------------------------\n",
      "0 | generator     | DataParallel | 16.8 M\n",
      "1 | discriminator | DataParallel | 17.0 M\n",
      "2 | cri_pix       | L1Loss       | 0     \n",
      "3 | cri_fea       | L1Loss       | 0     \n",
      "4 | netF          | DataParallel | 20.0 M\n",
      "5 | cri_gan       | GANLoss      | 0     \n",
      "-----------------------------------------------\n",
      "33.8 M    Trainable params\n",
      "20.0 M    Non-trainable params\n",
      "53.8 M    Total params\n",
      "215.280   Total estimated model params size (MB)\n"
     ]
    },
    {
     "name": "stdout",
     "output_type": "stream",
     "text": [
      "LR patch shape: torch.Size([64, 64])\n",
      "HR patch shape: torch.Size([256, 256])\n",
      "configure_model() - lr \n",
      "\n",
      "Shape: (2, 1, 64, 64) \n",
      "Type: <class 'torch.Tensor'> \n",
      "Numpy type: float32 \n",
      "Min: 0.17817679047584534 \n",
      "Max: 0.9084417819976807 \n",
      "Mean: 0.5866461992263794\n",
      "\n",
      "configure_model() - hr \n",
      "\n",
      "Shape: (2, 1, 256, 256) \n",
      "Type: <class 'torch.Tensor'> \n",
      "Numpy type: float32 \n",
      "Min: 0.0 \n",
      "Max: 0.9725490808486938 \n",
      "Mean: 0.5864189267158508\n",
      "\n"
     ]
    },
    {
     "data": {
      "application/vnd.jupyter.widget-view+json": {
       "model_id": "",
       "version_major": 2,
       "version_minor": 0
      },
      "text/plain": [
       "Sanity Checking: 0it [00:00, ?it/s]"
      ]
     },
     "metadata": {},
     "output_type": "display_data"
    },
    {
     "data": {
      "application/vnd.jupyter.widget-view+json": {
       "model_id": "6edd276b571e4180bb76f041b67e8bff",
       "version_major": 2,
       "version_minor": 0
      },
      "text/plain": [
       "Training: 0it [00:00, ?it/s]"
      ]
     },
     "metadata": {},
     "output_type": "display_data"
    },
    {
     "data": {
      "application/vnd.jupyter.widget-view+json": {
       "model_id": "",
       "version_major": 2,
       "version_minor": 0
      },
      "text/plain": [
       "Validation: 0it [00:00, ?it/s]"
      ]
     },
     "metadata": {},
     "output_type": "display_data"
    },
    {
     "data": {
      "application/vnd.jupyter.widget-view+json": {
       "model_id": "",
       "version_major": 2,
       "version_minor": 0
      },
      "text/plain": [
       "Validation: 0it [00:00, ?it/s]"
      ]
     },
     "metadata": {},
     "output_type": "display_data"
    },
    {
     "data": {
      "application/vnd.jupyter.widget-view+json": {
       "model_id": "",
       "version_major": 2,
       "version_minor": 0
      },
      "text/plain": [
       "Validation: 0it [00:00, ?it/s]"
      ]
     },
     "metadata": {},
     "output_type": "display_data"
    },
    {
     "data": {
      "application/vnd.jupyter.widget-view+json": {
       "model_id": "",
       "version_major": 2,
       "version_minor": 0
      },
      "text/plain": [
       "Validation: 0it [00:00, ?it/s]"
      ]
     },
     "metadata": {},
     "output_type": "display_data"
    },
    {
     "data": {
      "application/vnd.jupyter.widget-view+json": {
       "model_id": "",
       "version_major": 2,
       "version_minor": 0
      },
      "text/plain": [
       "Validation: 0it [00:00, ?it/s]"
      ]
     },
     "metadata": {},
     "output_type": "display_data"
    },
    {
     "name": "stdout",
     "output_type": "stream",
     "text": [
      "\n",
      "Time elapsed: 1.0 hour(s) 58.0 min(s) 51 sec(s)\n",
      "\n",
      "Train information saved.\n"
     ]
    },
    {
     "name": "stderr",
     "output_type": "stream",
     "text": [
      "GPU available: True, used: True\n",
      "TPU available: False, using: 0 TPU cores\n",
      "IPU available: False, using: 0 IPUs\n",
      "HPU available: False, using: 0 HPUs\n",
      "LOCAL_RANK: 0 - CUDA_VISIBLE_DEVICES: [1]\n"
     ]
    },
    {
     "data": {
      "application/vnd.jupyter.widget-view+json": {
       "model_id": "adfd7e66196a4a49acc85226c602ab0f",
       "version_major": 2,
       "version_minor": 0
      },
      "text/plain": [
       "Predicting: 0it [00:00, ?it/s]"
      ]
     },
     "metadata": {},
     "output_type": "display_data"
    },
    {
     "name": "stdout",
     "output_type": "stream",
     "text": [
      "(100, 1024, 1024, 1)\n",
      "predict_images() - lr \n",
      "\n",
      "Shape: (1, 1, 256, 256) \n",
      "Type: <class 'torch.Tensor'> \n",
      "Numpy type: float32 \n",
      "Min: 0.045906294137239456 \n",
      "Max: 0.7973402738571167 \n",
      "Mean: 0.5205608606338501\n",
      "\n",
      "predict_images() - hr \n",
      "\n",
      "Shape: (1, 1, 1024, 1024) \n",
      "Type: <class 'torch.Tensor'> \n",
      "Numpy type: float32 \n",
      "Min: 0.0 \n",
      "Max: 0.8901961445808411 \n",
      "Mean: 0.5205669403076172\n",
      "\n",
      "predict_images() - predictions \n",
      "\n",
      "Not same shapes\n",
      "Predicted images have been saved in: ./results/Electron microscopy/esrganplus/prueba/scale4/scale4_epc5_btch2_lr0.001_optim-Adam_lrsched-OneCycle_seed667/predicted_images\n",
      "predict_images() - self.Y_test \n",
      "\n",
      "Shape: (100, 1024, 1024, 1) \n",
      "Type: <class 'numpy.ndarray'> \n",
      "Numpy type: float32 \n",
      "Min: 0.0 \n",
      "Max: 0.003921568859368563 \n",
      "Mean: 0.002335971686989069\n",
      "\n",
      "predict_images() - self.predictions \n",
      "\n",
      "Shape: (100, 1024, 1024, 1) \n",
      "Type: <class 'numpy.ndarray'> \n",
      "Numpy type: float32 \n",
      "Min: 0.0 \n",
      "Max: 1.0 \n",
      "Mean: 0.9888588190078735\n",
      "\n",
      "True HR shape: (100, 1024, 1024, 1)\n",
      "Predicted HR shape: (100, 1024, 1024, 1)\n",
      "True HR: max=0.003490965347737074 min=0.0\n",
      "Predicted HR: max=1.0 min=0.0\n",
      "eval_model() - self.Y_test \n",
      "\n",
      "Shape: (100, 1024, 1024, 1) \n",
      "Type: <class 'numpy.ndarray'> \n",
      "Numpy type: float32 \n",
      "Min: 0.0 \n",
      "Max: 0.003921568859368563 \n",
      "Mean: 0.002335971686989069\n",
      "\n",
      "eval_model() - self.predictions \n",
      "\n",
      "Shape: (100, 1024, 1024, 1) \n",
      "Type: <class 'numpy.ndarray'> \n",
      "Numpy type: float32 \n",
      "Min: 0.0 \n",
      "Max: 1.0 \n",
      "Mean: 0.9888588190078735\n",
      "\n",
      "The predictions will be evaluated\n"
     ]
    },
    {
     "name": "stderr",
     "output_type": "stream",
     "text": [
      "100%|█████████████████████████████████████████| 100/100 [02:18<00:00,  1.38s/it]\n"
     ]
    },
    {
     "name": "stdout",
     "output_type": "stream",
     "text": [
      "ssim: 0.0057723490549940575\n",
      "psnr: 0.06896725841126825\n",
      "mse: 0.9842453704448474\n",
      "alex: 0.413942813873291\n",
      "vgg: 0.5236973166465759\n",
      "ilniqe: nan\n",
      "fsim: nan\n",
      "gmsd: nan\n",
      "vsi: nan\n",
      "haarpsi: nan\n",
      "mdsi: nan\n",
      "pieapp: nan\n",
      "dists: nan\n",
      "brisqe: nan\n",
      "successfully sent the mail\n"
     ]
    }
   ],
   "source": [
    "os.environ[\"CUDA_DEVICE_ORDER\"] = \"PCI_BUS_ID\";\n",
    "os.environ[\"CUDA_VISIBLE_DEVICES\"] = \"0\";\n",
    "\n",
    "dataset_name = 'EM'\n",
    "\n",
    "train_lr, train_hr, val_lr, val_hr, test_lr, test_hr = dataset_config[dataset_name]\n",
    "\n",
    "dataset_root = '../datasets'\n",
    "train_lr_path = os.path.join(dataset_root, dataset_name, train_lr) if train_lr is not None else None\n",
    "train_hr_path = os.path.join(dataset_root, dataset_name, train_hr) if train_hr is not None else None\n",
    "val_lr_path = os.path.join(dataset_root, dataset_name, val_lr) if val_lr is not None else None\n",
    "val_hr_path = os.path.join(dataset_root, dataset_name, val_hr) if val_hr is not None else None\n",
    "test_lr_path = os.path.join(dataset_root, dataset_name, test_lr) if test_lr is not None else None\n",
    "test_hr_path = os.path.join(dataset_root, dataset_name, test_hr) if test_hr is not None else None\n",
    "\n",
    "scale = 4\n",
    "\n",
    "model_configuration = {'optim': {'early_stop':{'loss':'val_ssim_loss','mode':'max', 'patience':10},\n",
    "                                 'adam':{'beta1':0.5,'beta2':0.9,'epsilon':1e-07},\n",
    "                                 'adamax':{'beta1':0.5,'beta2':0.9,'epsilon':1e-07},\n",
    "                                 'adamW':{'decay':0.004,'beta1':0.5,'beta2':0.9,'epsilon':1e-07},\n",
    "                                 'sgd_momentum':0.9,\n",
    "                                 'ReduceOnPlateau':{'monitor':'val_loss','factor':0.5,'patience':3},\n",
    "                                 'MultiStepScheduler':{'lr_steps':[50000, 100000, 200000, 300000],\n",
    "                                                       'lr_rate_decay':0.5}},\n",
    "                       'rcan': {'num_filters':16,\n",
    "                                'percp_coef': 1000},\n",
    "                       'dfcan': {'n_ResGroup': 4, 'n_RCAB': 4},\n",
    "                       'wdsr': {'num_res_blocks': 32},\n",
    "                       'unet': {'init_channels': 16,\n",
    "                                'depth': 4,\n",
    "                                'upsample_method': 'SubpixelConv2D',\n",
    "                                'maxpooling': False,\n",
    "                                'percp_coef': 10},\n",
    "                       'wgan': {'g_layers': 15,\n",
    "                                'd_layers': 5,\n",
    "                                'recloss': 100.0,\n",
    "                                'lambda_gp':10},\n",
    "                       'esrganplus': {'n_critic_steps':5},\n",
    "                       'others': {'positional_encoding':False,\n",
    "                                  'positional_encoding_channels':64}\n",
    "                      }\n",
    "\n",
    "test_metric_indexes = [69,  7, 36, 75, 74, 30, 12, 42, 87,  0]\n",
    "\n",
    "optimizer = 'Adam'  #'Adam', 'Adamax', 'RMSprop', 'SGD'\n",
    "discriminator_optimizer = 'Adam'  #'Adam', 'Adamax', 'RMSprop', 'SGD'\n",
    "scheduler = 'OneCycle'  #'ReduceOnPlateau', 'OneCycle', 'CosineDecay', 'MultiStepScheduler'\n",
    "discriminator_lr_scheduler = 'OneCycle'  #'ReduceOnPlateau', 'OneCycle', 'CosineDecay', 'MultiStepScheduler'\n",
    "\n",
    "crappifier_method = 'downsampleonly'\n",
    "\n",
    "model_name = 'wgan' # ['unet', 'rcan', 'dfcan', 'wdsr', 'wgan', 'esrganplus']\n",
    "seed = 666\n",
    "batch_size = 2\n",
    "number_of_epochs = 5\n",
    "lr = 0.0001\n",
    "discriminator_lr = 0.0001\n",
    "additional_folder = \"prueba\"\n",
    "\n",
    "num_patches = 16\n",
    "patch_size_x = 64\n",
    "patch_size_y = 64\n",
    "validation_split = 0.1\n",
    "data_augmentation = ['rotation', 'horizontal_flip', 'vertical_flip']\n",
    "\n",
    "model = train_configuration(\n",
    "                 data_name=dataset_name, \n",
    "                 train_lr_path=train_lr_path, train_hr_path=train_hr_path, \n",
    "                 val_lr_path=val_lr_path, val_hr_path=val_hr_path,\n",
    "                 test_lr_path=test_lr_path, test_hr_path=test_hr_path,\n",
    "                 crappifier_method=crappifier_method, \n",
    "                 model_name=model_name, scale_factor=scale, \n",
    "                 number_of_epochs=number_of_epochs, batch_size=batch_size, \n",
    "                 learning_rate=lr, discriminator_learning_rate=discriminator_lr, \n",
    "                 optimizer_name=optimizer, lr_scheduler_name=scheduler, \n",
    "                 test_metric_indexes=test_metric_indexes, \n",
    "                 additional_folder=additional_folder, \n",
    "                 model_configuration=model_configuration, seed=seed,\n",
    "                 num_patches=num_patches, patch_size_x=patch_size_x, patch_size_y=patch_size_y, \n",
    "                 validation_split=validation_split, data_augmentation=data_augmentation,\n",
    "                 discriminator_optimizer=discriminator_optimizer, \n",
    "                 discriminator_lr_scheduler=discriminator_lr_scheduler,\n",
    "                 verbose=0\n",
    "                )\n",
    "                 "
   ]
  },
  {
   "cell_type": "code",
   "execution_count": null,
   "id": "86c44e1c",
   "metadata": {},
   "outputs": [],
   "source": []
  },
  {
   "cell_type": "code",
   "execution_count": null,
   "id": "c068f0ab",
   "metadata": {},
   "outputs": [],
   "source": []
  }
 ],
 "metadata": {
  "kernelspec": {
   "display_name": "Python 3 (ipykernel)",
   "language": "python",
   "name": "python3"
  },
  "language_info": {
   "codemirror_mode": {
    "name": "ipython",
    "version": 3
   },
   "file_extension": ".py",
   "mimetype": "text/x-python",
   "name": "python",
   "nbconvert_exporter": "python",
   "pygments_lexer": "ipython3",
   "version": "3.7.13"
  }
 },
 "nbformat": 4,
 "nbformat_minor": 5
}
